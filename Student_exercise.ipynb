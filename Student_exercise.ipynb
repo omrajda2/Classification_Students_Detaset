{
 "cells": [
  {
   "cell_type": "code",
   "execution_count": 2,
   "metadata": {},
   "outputs": [],
   "source": [
    "#importing pandas library,hear pd is a sub library of pandas\n",
    "import pandas as pd \n",
    "import numpy as np"
   ]
  },
  {
   "cell_type": "code",
   "execution_count": 3,
   "metadata": {},
   "outputs": [],
   "source": [
    "df=pd.read_csv(\"/home/omraj/Downloads/daexam.txt\")#reading the data"
   ]
  },
  {
   "cell_type": "code",
   "execution_count": 4,
   "metadata": {
    "scrolled": true
   },
   "outputs": [],
   "source": [
    "temp_df=df#storing the data in temp variable "
   ]
  },
  {
   "cell_type": "code",
   "execution_count": 5,
   "metadata": {},
   "outputs": [
    {
     "data": {
      "text/html": [
       "<div>\n",
       "<style scoped>\n",
       "    .dataframe tbody tr th:only-of-type {\n",
       "        vertical-align: middle;\n",
       "    }\n",
       "\n",
       "    .dataframe tbody tr th {\n",
       "        vertical-align: top;\n",
       "    }\n",
       "\n",
       "    .dataframe thead th {\n",
       "        text-align: right;\n",
       "    }\n",
       "</style>\n",
       "<table border=\"1\" class=\"dataframe\">\n",
       "  <thead>\n",
       "    <tr style=\"text-align: right;\">\n",
       "      <th></th>\n",
       "      <th>Ht</th>\n",
       "      <th>Wt</th>\n",
       "      <th>Engg/Science</th>\n",
       "      <th>Keralite/NK</th>\n",
       "      <th>Daily Exercise</th>\n",
       "      <th>% marks for qualifying</th>\n",
       "      <th>12maths</th>\n",
       "      <th>12Science</th>\n",
       "      <th>Degreemajor</th>\n",
       "      <th>Hostel/Dayscholar</th>\n",
       "      <th>Marks DA</th>\n",
       "      <th>Av hrs for study/day</th>\n",
       "    </tr>\n",
       "  </thead>\n",
       "  <tbody>\n",
       "    <tr>\n",
       "      <th>0</th>\n",
       "      <td>7.27</td>\n",
       "      <td>94.36</td>\n",
       "      <td>1</td>\n",
       "      <td>1</td>\n",
       "      <td>1</td>\n",
       "      <td>69.19</td>\n",
       "      <td>60.38</td>\n",
       "      <td>58.76</td>\n",
       "      <td>69.78</td>\n",
       "      <td>1</td>\n",
       "      <td>62</td>\n",
       "      <td>4</td>\n",
       "    </tr>\n",
       "    <tr>\n",
       "      <th>1</th>\n",
       "      <td>7.32</td>\n",
       "      <td>86.34</td>\n",
       "      <td>1</td>\n",
       "      <td>0</td>\n",
       "      <td>0</td>\n",
       "      <td>74.45</td>\n",
       "      <td>52.45</td>\n",
       "      <td>49.90</td>\n",
       "      <td>66.45</td>\n",
       "      <td>1</td>\n",
       "      <td>55</td>\n",
       "      <td>3</td>\n",
       "    </tr>\n",
       "    <tr>\n",
       "      <th>2</th>\n",
       "      <td>7.79</td>\n",
       "      <td>35.89</td>\n",
       "      <td>0</td>\n",
       "      <td>0</td>\n",
       "      <td>0</td>\n",
       "      <td>68.79</td>\n",
       "      <td>47.48</td>\n",
       "      <td>46.96</td>\n",
       "      <td>63.13</td>\n",
       "      <td>0</td>\n",
       "      <td>52</td>\n",
       "      <td>3</td>\n",
       "    </tr>\n",
       "    <tr>\n",
       "      <th>3</th>\n",
       "      <td>7.58</td>\n",
       "      <td>91.58</td>\n",
       "      <td>1</td>\n",
       "      <td>1</td>\n",
       "      <td>1</td>\n",
       "      <td>65.25</td>\n",
       "      <td>66.31</td>\n",
       "      <td>67.62</td>\n",
       "      <td>66.78</td>\n",
       "      <td>1</td>\n",
       "      <td>1.69</td>\n",
       "      <td>4</td>\n",
       "    </tr>\n",
       "  </tbody>\n",
       "</table>\n",
       "</div>"
      ],
      "text/plain": [
       "     Ht     Wt  Engg/Science  Keralite/NK Daily Exercise  \\\n",
       "0  7.27  94.36             1            1              1   \n",
       "1  7.32  86.34             1            0              0   \n",
       "2  7.79  35.89             0            0              0   \n",
       "3  7.58  91.58             1            1              1   \n",
       "\n",
       "   % marks for qualifying  12maths  12Science  Degreemajor  Hostel/Dayscholar  \\\n",
       "0                   69.19    60.38      58.76        69.78                  1   \n",
       "1                   74.45    52.45      49.90        66.45                  1   \n",
       "2                   68.79    47.48      46.96        63.13                  0   \n",
       "3                   65.25    66.31      67.62        66.78                  1   \n",
       "\n",
       "  Marks DA Av hrs for study/day  \n",
       "0       62                    4  \n",
       "1       55                    3  \n",
       "2       52                    3  \n",
       "3     1.69                    4  "
      ]
     },
     "execution_count": 5,
     "metadata": {},
     "output_type": "execute_result"
    }
   ],
   "source": [
    "del df['Id']#deleting the ID column\n",
    "del df['Unnamed: 0']#deleting the Unnamed column\n",
    "df.head(4)#dataframe checking"
   ]
  },
  {
   "cell_type": "code",
   "execution_count": 6,
   "metadata": {},
   "outputs": [
    {
     "data": {
      "text/plain": [
       "Ht                        0\n",
       "Wt                        0\n",
       "Engg/Science              0\n",
       "Keralite/NK               0\n",
       "Daily Exercise            0\n",
       "% marks for qualifying    0\n",
       "12maths                   0\n",
       "12Science                 0\n",
       "Degreemajor               0\n",
       "Hostel/Dayscholar         0\n",
       "Marks DA                  0\n",
       "Av hrs for study/day      0\n",
       "dtype: int64"
      ]
     },
     "execution_count": 6,
     "metadata": {},
     "output_type": "execute_result"
    }
   ],
   "source": [
    "#hear i am checking null value in data frame\n",
    "df.isnull().sum()"
   ]
  },
  {
   "cell_type": "markdown",
   "metadata": {},
   "source": [
    "# clean Av hrs per day col for int values only "
   ]
  },
  {
   "cell_type": "code",
   "execution_count": 7,
   "metadata": {},
   "outputs": [
    {
     "data": {
      "text/plain": [
       "array(['4', '3', '0', '2', '6', '5', '1', '-2', 'mobile', 'gen', '46',\n",
       "       '-1'], dtype=object)"
      ]
     },
     "execution_count": 7,
     "metadata": {},
     "output_type": "execute_result"
    }
   ],
   "source": [
    "#hear i am cheacking the unique value of thease column\n",
    "df[\"Av hrs for study/day\"].unique()"
   ]
  },
  {
   "cell_type": "code",
   "execution_count": 8,
   "metadata": {},
   "outputs": [],
   "source": [
    "#making the list of Av hrs for study/day for loop\n",
    "study = list(df['Av hrs for study/day'])"
   ]
  },
  {
   "cell_type": "code",
   "execution_count": 9,
   "metadata": {},
   "outputs": [],
   "source": [
    "#Hear i am assigning the nan value on the place of noisy data\n",
    "studytime=[]\n",
    "for i in study:\n",
    "    if(i==( 'gen')or i==('mobile') or i==('46')):\n",
    "        studytime.append(np.nan)\n",
    "    else:\n",
    "        if(int(i)<0):\n",
    "            studytime.append(-1*(int(i)))\n",
    "        else:\n",
    "            studytime.append(int(i))\n",
    "    "
   ]
  },
  {
   "cell_type": "code",
   "execution_count": 10,
   "metadata": {},
   "outputs": [],
   "source": [
    "#Hear i am making arry for reeplacing nan value to mean value of those column\n",
    "t = studytime\n",
    "study_time = np.array(t)\n",
    "df['Av hrs for study/day']=study_time"
   ]
  },
  {
   "cell_type": "code",
   "execution_count": 11,
   "metadata": {},
   "outputs": [],
   "source": [
    "#hear i am filling the mean value \n",
    "df['Av hrs for study/day'].fillna((df['Av hrs for study/day'].mean()),inplace=True)"
   ]
  },
  {
   "cell_type": "markdown",
   "metadata": {},
   "source": [
    "# clean Daily exercise column with deleting noise data row"
   ]
  },
  {
   "cell_type": "code",
   "execution_count": 12,
   "metadata": {},
   "outputs": [
    {
     "data": {
      "text/plain": [
       "array(['1', '0', 'q]'], dtype=object)"
      ]
     },
     "execution_count": 12,
     "metadata": {},
     "output_type": "execute_result"
    }
   ],
   "source": [
    "#checking the unique value of these column\n",
    "df[\"Daily Exercise\"].unique()"
   ]
  },
  {
   "cell_type": "code",
   "execution_count": 13,
   "metadata": {},
   "outputs": [],
   "source": [
    "#deleting the noisy row\n",
    "rem = df[df['Daily Exercise']=='q]']\n",
    "df = df.drop(rem.index,axis=0)"
   ]
  },
  {
   "cell_type": "markdown",
   "metadata": {},
   "source": [
    "# clean Marks DA column"
   ]
  },
  {
   "cell_type": "code",
   "execution_count": 14,
   "metadata": {},
   "outputs": [
    {
     "data": {
      "text/plain": [
       "array(['62', '55', '52', '1.69', '25', '11', '65', '83', '73', '47', '80',\n",
       "       '69', '84', '71', '21', '85', '18', '37', '43', '28', '33', '34',\n",
       "       '48', '87', '54', '60', '38', '58', '32', '45', '88', '53', '9',\n",
       "       '64', '19', '7', '8', '68', '31', '78', '72', '10', '56', '5',\n",
       "       '81', '40', '30', '82', '39', '76', '16', '77', '61', '70', '35',\n",
       "       '36', '41', '29', '50', '6', '46', '90', '23', '155p', '26', '14'],\n",
       "      dtype=object)"
      ]
     },
     "execution_count": 14,
     "metadata": {},
     "output_type": "execute_result"
    }
   ],
   "source": [
    "#Hear i am checking unique value of these column\n",
    "df['Marks DA'].unique()"
   ]
  },
  {
   "cell_type": "code",
   "execution_count": 15,
   "metadata": {},
   "outputs": [],
   "source": [
    "#making list of those column for assigning the nan value using loop\n",
    "damrk=list(df['Marks DA'])"
   ]
  },
  {
   "cell_type": "code",
   "execution_count": 16,
   "metadata": {},
   "outputs": [],
   "source": [
    "#hear assigning the nan value on noisy data\n",
    "marksda=[]\n",
    "for i in damrk:\n",
    "    if(i=='1.69')or(i=='155p'):\n",
    "        marksda.append(np.nan)\n",
    "    else:\n",
    "        marksda.append(int(i))\n"
   ]
  },
  {
   "cell_type": "code",
   "execution_count": 17,
   "metadata": {},
   "outputs": [],
   "source": [
    "#making arry for reeplacing nan value to mean value of those column\n",
    "t = marksda\n",
    "marks_da = np.array(t)\n",
    "df['Marks DA']=marks_da"
   ]
  },
  {
   "cell_type": "code",
   "execution_count": 18,
   "metadata": {},
   "outputs": [],
   "source": [
    "#filling the mean value \n",
    "df['Marks DA'].fillna((df['Marks DA'].mean()),inplace=True)"
   ]
  },
  {
   "cell_type": "markdown",
   "metadata": {},
   "source": [
    "# for Hostel/Dayscholar"
   ]
  },
  {
   "cell_type": "code",
   "execution_count": 19,
   "metadata": {},
   "outputs": [
    {
     "data": {
      "text/plain": [
       "array([ 1,  0, 12])"
      ]
     },
     "execution_count": 19,
     "metadata": {},
     "output_type": "execute_result"
    }
   ],
   "source": [
    "#checking the unique value of these column\n",
    "df[\"Hostel/Dayscholar\"].unique()"
   ]
  },
  {
   "cell_type": "code",
   "execution_count": 20,
   "metadata": {},
   "outputs": [],
   "source": [
    "#making list of those column for loop\n",
    "Hd=list(df['Hostel/Dayscholar'])"
   ]
  },
  {
   "cell_type": "code",
   "execution_count": 21,
   "metadata": {},
   "outputs": [],
   "source": [
    "#hear assigning the nan value on noisy data\n",
    "Hod=[]\n",
    "for i in Hd:\n",
    "    if(t==12):\n",
    "        Hod.append(np.nan)\n",
    "    else:\n",
    "        Hod.append(i)"
   ]
  },
  {
   "cell_type": "code",
   "execution_count": 22,
   "metadata": {},
   "outputs": [],
   "source": [
    "#making arry for reeplacing nan value to mean value of those column\n",
    "t = Hod\n",
    "H_d = np.array(t)\n",
    "df['Hostel/Dayscholar']=H_d"
   ]
  },
  {
   "cell_type": "code",
   "execution_count": 23,
   "metadata": {},
   "outputs": [],
   "source": [
    "#filling the mean value \n",
    "df['Hostel/Dayscholar'].fillna((df['Hostel/Dayscholar'].mean()),inplace=True)"
   ]
  },
  {
   "cell_type": "code",
   "execution_count": 24,
   "metadata": {},
   "outputs": [
    {
     "data": {
      "text/html": [
       "<div>\n",
       "<style scoped>\n",
       "    .dataframe tbody tr th:only-of-type {\n",
       "        vertical-align: middle;\n",
       "    }\n",
       "\n",
       "    .dataframe tbody tr th {\n",
       "        vertical-align: top;\n",
       "    }\n",
       "\n",
       "    .dataframe thead th {\n",
       "        text-align: right;\n",
       "    }\n",
       "</style>\n",
       "<table border=\"1\" class=\"dataframe\">\n",
       "  <thead>\n",
       "    <tr style=\"text-align: right;\">\n",
       "      <th></th>\n",
       "      <th>Ht</th>\n",
       "      <th>Wt</th>\n",
       "      <th>Engg/Science</th>\n",
       "      <th>Keralite/NK</th>\n",
       "      <th>Daily Exercise</th>\n",
       "      <th>% marks for qualifying</th>\n",
       "      <th>12maths</th>\n",
       "      <th>12Science</th>\n",
       "      <th>Degreemajor</th>\n",
       "      <th>Hostel/Dayscholar</th>\n",
       "      <th>Marks DA</th>\n",
       "      <th>Av hrs for study/day</th>\n",
       "    </tr>\n",
       "  </thead>\n",
       "  <tbody>\n",
       "    <tr>\n",
       "      <th>0</th>\n",
       "      <td>7.27</td>\n",
       "      <td>94.36</td>\n",
       "      <td>1</td>\n",
       "      <td>1</td>\n",
       "      <td>1</td>\n",
       "      <td>69.19</td>\n",
       "      <td>60.38</td>\n",
       "      <td>58.76</td>\n",
       "      <td>69.78</td>\n",
       "      <td>1</td>\n",
       "      <td>62.000000</td>\n",
       "      <td>4.0</td>\n",
       "    </tr>\n",
       "    <tr>\n",
       "      <th>1</th>\n",
       "      <td>7.32</td>\n",
       "      <td>86.34</td>\n",
       "      <td>1</td>\n",
       "      <td>0</td>\n",
       "      <td>0</td>\n",
       "      <td>74.45</td>\n",
       "      <td>52.45</td>\n",
       "      <td>49.90</td>\n",
       "      <td>66.45</td>\n",
       "      <td>1</td>\n",
       "      <td>55.000000</td>\n",
       "      <td>3.0</td>\n",
       "    </tr>\n",
       "    <tr>\n",
       "      <th>2</th>\n",
       "      <td>7.79</td>\n",
       "      <td>35.89</td>\n",
       "      <td>0</td>\n",
       "      <td>0</td>\n",
       "      <td>0</td>\n",
       "      <td>68.79</td>\n",
       "      <td>47.48</td>\n",
       "      <td>46.96</td>\n",
       "      <td>63.13</td>\n",
       "      <td>0</td>\n",
       "      <td>52.000000</td>\n",
       "      <td>3.0</td>\n",
       "    </tr>\n",
       "    <tr>\n",
       "      <th>3</th>\n",
       "      <td>7.58</td>\n",
       "      <td>91.58</td>\n",
       "      <td>1</td>\n",
       "      <td>1</td>\n",
       "      <td>1</td>\n",
       "      <td>65.25</td>\n",
       "      <td>66.31</td>\n",
       "      <td>67.62</td>\n",
       "      <td>66.78</td>\n",
       "      <td>1</td>\n",
       "      <td>48.092784</td>\n",
       "      <td>4.0</td>\n",
       "    </tr>\n",
       "    <tr>\n",
       "      <th>4</th>\n",
       "      <td>6.52</td>\n",
       "      <td>38.17</td>\n",
       "      <td>0</td>\n",
       "      <td>1</td>\n",
       "      <td>0</td>\n",
       "      <td>65.51</td>\n",
       "      <td>22.75</td>\n",
       "      <td>24.50</td>\n",
       "      <td>47.13</td>\n",
       "      <td>0</td>\n",
       "      <td>25.000000</td>\n",
       "      <td>0.0</td>\n",
       "    </tr>\n",
       "  </tbody>\n",
       "</table>\n",
       "</div>"
      ],
      "text/plain": [
       "     Ht     Wt  Engg/Science  Keralite/NK Daily Exercise  \\\n",
       "0  7.27  94.36             1            1              1   \n",
       "1  7.32  86.34             1            0              0   \n",
       "2  7.79  35.89             0            0              0   \n",
       "3  7.58  91.58             1            1              1   \n",
       "4  6.52  38.17             0            1              0   \n",
       "\n",
       "   % marks for qualifying  12maths  12Science  Degreemajor  Hostel/Dayscholar  \\\n",
       "0                   69.19    60.38      58.76        69.78                  1   \n",
       "1                   74.45    52.45      49.90        66.45                  1   \n",
       "2                   68.79    47.48      46.96        63.13                  0   \n",
       "3                   65.25    66.31      67.62        66.78                  1   \n",
       "4                   65.51    22.75      24.50        47.13                  0   \n",
       "\n",
       "    Marks DA  Av hrs for study/day  \n",
       "0  62.000000                   4.0  \n",
       "1  55.000000                   3.0  \n",
       "2  52.000000                   3.0  \n",
       "3  48.092784                   4.0  \n",
       "4  25.000000                   0.0  "
      ]
     },
     "execution_count": 24,
     "metadata": {},
     "output_type": "execute_result"
    }
   ],
   "source": [
    "df.head(5)#filnaly checking the cleaned data "
   ]
  },
  {
   "cell_type": "markdown",
   "metadata": {},
   "source": [
    "# M L classification Algoritham (1)RandomForest\n"
   ]
  },
  {
   "cell_type": "markdown",
   "metadata": {},
   "source": [
    "Hear i am going to classify studet are  doing excercise or not,And i am using the random forest classification algoritham./Random forest is a supervised learning algoritham\n",
    "/Random forest algorithm or the random forest classifier can use for both classification and the regression task.\n",
    "/Random forest classifier will handle the missing values.\n",
    "/Random forest classifier for categorical values also.\n",
    "/The overfitting problem will never come when we use the random forest algorithm in any classification problem."
   ]
  },
  {
   "cell_type": "code",
   "execution_count": 25,
   "metadata": {},
   "outputs": [],
   "source": [
    "#importing library\n",
    "from sklearn.model_selection import train_test_split\n",
    "from sklearn.ensemble import RandomForestClassifier\n",
    "from sklearn.metrics import accuracy_score\n",
    "from sklearn.metrics import confusion_matrix"
   ]
  },
  {
   "cell_type": "code",
   "execution_count": 26,
   "metadata": {},
   "outputs": [
    {
     "data": {
      "text/plain": [
       "array([1, 0, 0, 1, 0, 0, 1, 1, 1, 0, 1, 1, 1, 1, 0, 1, 0, 0, 0, 0, 1, 0,\n",
       "       0, 0, 0, 1, 0, 0, 1, 0, 0, 0, 0, 0, 0, 1, 0, 0, 0, 1, 0, 0, 1, 0,\n",
       "       0, 1, 0, 0, 0, 1, 0, 0, 1, 0, 0, 0, 0, 0, 1, 1, 0, 0, 0, 1, 0, 0,\n",
       "       1, 1, 1, 0, 1, 1, 1, 1, 1, 1, 0, 0, 0, 0, 1, 0, 0, 0, 0, 0, 0, 1,\n",
       "       0, 1, 0, 1, 1, 1, 0, 0, 1, 0, 0])"
      ]
     },
     "execution_count": 26,
     "metadata": {},
     "output_type": "execute_result"
    }
   ],
   "source": [
    "y=np.array(df['Daily Exercise'].astype('int'))\n",
    "\n",
    "x=np.array(df.drop('Daily Exercise',axis=1))\n",
    "y"
   ]
  },
  {
   "cell_type": "code",
   "execution_count": 26,
   "metadata": {},
   "outputs": [],
   "source": [
    "train_X, test_X,train_y, test_y = train_test_split(x,y,test_size = 0.3,random_state = 4 )   "
   ]
  },
  {
   "cell_type": "code",
   "execution_count": 27,
   "metadata": {},
   "outputs": [
    {
     "data": {
      "text/plain": [
       "69"
      ]
     },
     "execution_count": 27,
     "metadata": {},
     "output_type": "execute_result"
    }
   ],
   "source": [
    "len( train_y)"
   ]
  },
  {
   "cell_type": "code",
   "execution_count": 28,
   "metadata": {},
   "outputs": [
    {
     "data": {
      "text/plain": [
       "30"
      ]
     },
     "execution_count": 28,
     "metadata": {},
     "output_type": "execute_result"
    }
   ],
   "source": [
    "len( test_y )"
   ]
  },
  {
   "cell_type": "code",
   "execution_count": 29,
   "metadata": {},
   "outputs": [
    {
     "data": {
      "text/plain": [
       "RandomForestClassifier(bootstrap=True, class_weight=None, criterion='gini',\n",
       "            max_depth=None, max_features='auto', max_leaf_nodes=None,\n",
       "            min_impurity_decrease=0.0, min_impurity_split=None,\n",
       "            min_samples_leaf=1, min_samples_split=2,\n",
       "            min_weight_fraction_leaf=0.0, n_estimators=10, n_jobs=1,\n",
       "            oob_score=False, random_state=None, verbose=0,\n",
       "            warm_start=False)"
      ]
     },
     "execution_count": 29,
     "metadata": {},
     "output_type": "execute_result"
    }
   ],
   "source": [
    "radm_clf = RandomForestClassifier()\n",
    "radm_clf.fit( train_X, train_y )"
   ]
  },
  {
   "cell_type": "code",
   "execution_count": 30,
   "metadata": {},
   "outputs": [],
   "source": [
    "radm_test_pred = pd.DataFrame( { 'actual':  test_y,'predicted': radm_clf.predict( test_X) } )                          "
   ]
  },
  {
   "cell_type": "code",
   "execution_count": 31,
   "metadata": {},
   "outputs": [
    {
     "data": {
      "text/plain": [
       "0.9666666666666667"
      ]
     },
     "execution_count": 31,
     "metadata": {},
     "output_type": "execute_result"
    }
   ],
   "source": [
    "accuracy_score( radm_test_pred.actual, radm_test_pred.predicted )"
   ]
  },
  {
   "cell_type": "code",
   "execution_count": 32,
   "metadata": {},
   "outputs": [
    {
     "name": "stdout",
     "output_type": "stream",
     "text": [
      "[[19  0]\n",
      " [ 1 10]]\n"
     ]
    }
   ],
   "source": [
    "print(confusion_matrix(test_y,radm_clf.predict(test_X)))"
   ]
  },
  {
   "cell_type": "markdown",
   "metadata": {},
   "source": [
    "# (2)Logistic Regression"
   ]
  },
  {
   "cell_type": "code",
   "execution_count": 33,
   "metadata": {},
   "outputs": [
    {
     "name": "stderr",
     "output_type": "stream",
     "text": [
      "/home/omraj/.local/lib/python3.5/site-packages/sklearn/cross_validation.py:41: DeprecationWarning: This module was deprecated in version 0.18 in favor of the model_selection module into which all the refactored classes and functions are moved. Also note that the interface of the new CV iterators are different from that of this module. This module will be removed in 0.20.\n",
      "  \"This module will be removed in 0.20.\", DeprecationWarning)\n"
     ]
    }
   ],
   "source": [
    "from sklearn.linear_model import LogisticRegression\n",
    "from sklearn.cross_validation import train_test_split\n",
    "from sklearn.metrics import classification_report"
   ]
  },
  {
   "cell_type": "code",
   "execution_count": 34,
   "metadata": {},
   "outputs": [],
   "source": [
    "X_train, X_test, y_train, y_test = train_test_split(x,y, test_size = .3, random_state=25)"
   ]
  },
  {
   "cell_type": "code",
   "execution_count": 35,
   "metadata": {},
   "outputs": [
    {
     "data": {
      "text/plain": [
       "LogisticRegression(C=1.0, class_weight=None, dual=False, fit_intercept=True,\n",
       "          intercept_scaling=1, max_iter=100, multi_class='ovr', n_jobs=1,\n",
       "          penalty='l2', random_state=None, solver='liblinear', tol=0.0001,\n",
       "          verbose=0, warm_start=False)"
      ]
     },
     "execution_count": 35,
     "metadata": {},
     "output_type": "execute_result"
    }
   ],
   "source": [
    "LogReg = LogisticRegression()\n",
    "LogReg.fit(X_train, y_train)"
   ]
  },
  {
   "cell_type": "code",
   "execution_count": 36,
   "metadata": {},
   "outputs": [],
   "source": [
    "y_pred = LogReg.predict(X_test)"
   ]
  },
  {
   "cell_type": "code",
   "execution_count": 37,
   "metadata": {},
   "outputs": [
    {
     "data": {
      "text/plain": [
       "array([0, 0, 0, 0, 1, 0, 0, 0, 0, 0, 1, 0, 1, 1, 0, 1, 1, 1, 0, 1, 0, 1,\n",
       "       0, 1, 0, 0, 0, 0, 0, 0])"
      ]
     },
     "execution_count": 37,
     "metadata": {},
     "output_type": "execute_result"
    }
   ],
   "source": [
    "y_pred"
   ]
  },
  {
   "cell_type": "code",
   "execution_count": 38,
   "metadata": {},
   "outputs": [
    {
     "name": "stdout",
     "output_type": "stream",
     "text": [
      "             precision    recall  f1-score   support\n",
      "\n",
      "          0       0.85      1.00      0.92        17\n",
      "          1       1.00      0.77      0.87        13\n",
      "\n",
      "avg / total       0.91      0.90      0.90        30\n",
      "\n"
     ]
    }
   ],
   "source": [
    "print(classification_report(y_test, y_pred))"
   ]
  },
  {
   "cell_type": "code",
   "execution_count": null,
   "metadata": {},
   "outputs": [],
   "source": []
  },
  {
   "cell_type": "code",
   "execution_count": null,
   "metadata": {},
   "outputs": [],
   "source": []
  },
  {
   "cell_type": "code",
   "execution_count": null,
   "metadata": {},
   "outputs": [],
   "source": []
  },
  {
   "cell_type": "code",
   "execution_count": null,
   "metadata": {},
   "outputs": [],
   "source": []
  }
 ],
 "metadata": {
  "kernelspec": {
   "display_name": "Python 3",
   "language": "python",
   "name": "python3"
  },
  "language_info": {
   "codemirror_mode": {
    "name": "ipython",
    "version": 3
   },
   "file_extension": ".py",
   "mimetype": "text/x-python",
   "name": "python",
   "nbconvert_exporter": "python",
   "pygments_lexer": "ipython3",
   "version": "3.5.2"
  }
 },
 "nbformat": 4,
 "nbformat_minor": 2
}
